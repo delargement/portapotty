{
 "cells": [
  {
   "cell_type": "markdown",
   "metadata": {
    "id": "xlTJYIIxx0rS",
    "slideshow": {
     "slide_type": "slide"
    }
   },
   "source": [
    "# Assignment (Domain: Education)\n",
    "by Khang and Vishal from M22504\n",
    "\n",
    "### Problem Definition\n",
    "We want to get a sense of how external factors affects a student's behaviour.\n",
    "\n",
    "Furthermore, we want to examine the effects of external factors as well as a student's character (indicated by their involvement in extra-curricular activities, study time, etc...) on their grades and drinking habits.\n",
    "\n",
    "### Summary of Dataset\n",
    "\n",
    "> Kaggle: The data were obtained in a survey of students math and portuguese language courses in secondary school. It contains a lot of interesting social, gender and study information about students. You can use it for some EDA or try to predict students final grade.\n",
    "\n",
    "Domain: Education\n",
    "https://www.kaggle.com/uciml/student-alcohol-consumption?select=student-mat.csv"
   ]
  },
  {
   "cell_type": "code",
   "execution_count": 1,
   "metadata": {
    "id": "PyE-59DWxp4r",
    "slideshow": {
     "slide_type": "skip"
    }
   },
   "outputs": [],
   "source": [
    "import pandas as pd\n",
    "import numpy as np\n",
    "import matplotlib.pyplot as plt\n",
    "import seaborn as sns\n",
    "import warnings\n",
    "warnings.filterwarnings('ignore')\n",
    "\n",
    "%matplotlib inline\n",
    "\n",
    "#sklearn\n",
    "from sklearn.ensemble import RandomForestRegressor\n",
    "from sklearn.model_selection import train_test_split\n",
    "from sklearn.preprocessing import OrdinalEncoder\n",
    "from sklearn.dummy import DummyRegressor\n",
    "from sklearn.pipeline import make_pipeline\n",
    "from sklearn.preprocessing import StandardScaler\n",
    "from sklearn.linear_model import LinearRegression\n",
    "from sklearn.tree import DecisionTreeRegressor"
   ]
  },
  {
   "cell_type": "code",
   "execution_count": 2,
   "metadata": {
    "id": "tUO4wJgryAbn",
    "slideshow": {
     "slide_type": "skip"
    }
   },
   "outputs": [],
   "source": [
    "#@title Download the U.S Education Datasets (run this cell)\n",
    "#!pip install kaggle\n",
    "#!mkdir ~/.kaggle\n",
    "#!echo \"{\\\"username\\\":\\\"khangtranduc\\\",\\\"key\\\":\\\"ed3dbb5c37191985a7a879e9f1ef4c73\\\"}\" > ~/.kaggle/kaggle.json\n",
    "#!chmod 600 ~/.kaggle/kaggle.json\n",
    "#!kaggle datasets download uciml/student-alcohol-consumption\n",
    "#!unzip student-alcohol-consumption.zip"
   ]
  },
  {
   "cell_type": "code",
   "execution_count": 3,
   "metadata": {
    "id": "aVdh_AXOyNZg",
    "slideshow": {
     "slide_type": "skip"
    }
   },
   "outputs": [],
   "source": [
    "#@title Define Helper Functions\n",
    "def load_data():\n",
    "  mat = pd.read_csv('student-mat.csv')\n",
    "  por = pd.read_csv('student-por.csv')\n",
    "  return (mat, por, pd.merge(mat, por, on=[\"school\",\"sex\",\"age\",\"address\",\"famsize\",\"Pstatus\",\"Medu\",\"Fedu\",\"Mjob\",\"Fjob\",\"reason\",\"nursery\",\"internet\"]))"
   ]
  },
  {
   "cell_type": "code",
   "execution_count": 4,
   "metadata": {
    "id": "m_bVgxDrzD9W",
    "slideshow": {
     "slide_type": "skip"
    }
   },
   "outputs": [],
   "source": [
    "mat, por, merge = load_data() # mat = math, por = portuguese"
   ]
  },
  {
   "cell_type": "code",
   "execution_count": 5,
   "metadata": {
    "colab": {
     "base_uri": "https://localhost:8080/"
    },
    "id": "BAdtI7XuzTWM",
    "outputId": "1a31c5b3-c47a-49e2-b507-b2fabfc40f0b",
    "slideshow": {
     "slide_type": "skip"
    }
   },
   "outputs": [
    {
     "name": "stdout",
     "output_type": "stream",
     "text": [
      "(395, 33)\n",
      "(649, 33)\n",
      "(382, 53)\n"
     ]
    }
   ],
   "source": [
    "print(mat.shape)\n",
    "print(por.shape)\n",
    "print(merge.shape)"
   ]
  },
  {
   "cell_type": "code",
   "execution_count": 6,
   "metadata": {
    "colab": {
     "base_uri": "https://localhost:8080/",
     "height": 300
    },
    "id": "CrxeF28I5Cp0",
    "outputId": "74a0810f-372b-41df-c922-d20fc96f9365",
    "slideshow": {
     "slide_type": "slide"
    }
   },
   "outputs": [
    {
     "data": {
      "text/html": [
       "<div>\n",
       "<style scoped>\n",
       "    .dataframe tbody tr th:only-of-type {\n",
       "        vertical-align: middle;\n",
       "    }\n",
       "\n",
       "    .dataframe tbody tr th {\n",
       "        vertical-align: top;\n",
       "    }\n",
       "\n",
       "    .dataframe thead th {\n",
       "        text-align: right;\n",
       "    }\n",
       "</style>\n",
       "<table border=\"1\" class=\"dataframe\">\n",
       "  <thead>\n",
       "    <tr style=\"text-align: right;\">\n",
       "      <th></th>\n",
       "      <th>age</th>\n",
       "      <th>Medu</th>\n",
       "      <th>Fedu</th>\n",
       "      <th>traveltime</th>\n",
       "      <th>studytime</th>\n",
       "      <th>failures</th>\n",
       "      <th>famrel</th>\n",
       "      <th>freetime</th>\n",
       "      <th>goout</th>\n",
       "      <th>Dalc</th>\n",
       "      <th>Walc</th>\n",
       "      <th>health</th>\n",
       "      <th>absences</th>\n",
       "      <th>G1</th>\n",
       "      <th>G2</th>\n",
       "      <th>G3</th>\n",
       "    </tr>\n",
       "  </thead>\n",
       "  <tbody>\n",
       "    <tr>\n",
       "      <th>count</th>\n",
       "      <td>649.000000</td>\n",
       "      <td>649.000000</td>\n",
       "      <td>649.000000</td>\n",
       "      <td>649.000000</td>\n",
       "      <td>649.000000</td>\n",
       "      <td>649.000000</td>\n",
       "      <td>649.000000</td>\n",
       "      <td>649.000000</td>\n",
       "      <td>649.000000</td>\n",
       "      <td>649.000000</td>\n",
       "      <td>649.000000</td>\n",
       "      <td>649.000000</td>\n",
       "      <td>649.000000</td>\n",
       "      <td>649.000000</td>\n",
       "      <td>649.000000</td>\n",
       "      <td>649.000000</td>\n",
       "    </tr>\n",
       "    <tr>\n",
       "      <th>mean</th>\n",
       "      <td>16.744222</td>\n",
       "      <td>2.514638</td>\n",
       "      <td>2.306626</td>\n",
       "      <td>1.568567</td>\n",
       "      <td>1.930663</td>\n",
       "      <td>0.221880</td>\n",
       "      <td>3.930663</td>\n",
       "      <td>3.180277</td>\n",
       "      <td>3.184900</td>\n",
       "      <td>1.502311</td>\n",
       "      <td>2.280431</td>\n",
       "      <td>3.536210</td>\n",
       "      <td>3.659476</td>\n",
       "      <td>11.399076</td>\n",
       "      <td>11.570108</td>\n",
       "      <td>11.906009</td>\n",
       "    </tr>\n",
       "    <tr>\n",
       "      <th>std</th>\n",
       "      <td>1.218138</td>\n",
       "      <td>1.134552</td>\n",
       "      <td>1.099931</td>\n",
       "      <td>0.748660</td>\n",
       "      <td>0.829510</td>\n",
       "      <td>0.593235</td>\n",
       "      <td>0.955717</td>\n",
       "      <td>1.051093</td>\n",
       "      <td>1.175766</td>\n",
       "      <td>0.924834</td>\n",
       "      <td>1.284380</td>\n",
       "      <td>1.446259</td>\n",
       "      <td>4.640759</td>\n",
       "      <td>2.745265</td>\n",
       "      <td>2.913639</td>\n",
       "      <td>3.230656</td>\n",
       "    </tr>\n",
       "    <tr>\n",
       "      <th>min</th>\n",
       "      <td>15.000000</td>\n",
       "      <td>0.000000</td>\n",
       "      <td>0.000000</td>\n",
       "      <td>1.000000</td>\n",
       "      <td>1.000000</td>\n",
       "      <td>0.000000</td>\n",
       "      <td>1.000000</td>\n",
       "      <td>1.000000</td>\n",
       "      <td>1.000000</td>\n",
       "      <td>1.000000</td>\n",
       "      <td>1.000000</td>\n",
       "      <td>1.000000</td>\n",
       "      <td>0.000000</td>\n",
       "      <td>0.000000</td>\n",
       "      <td>0.000000</td>\n",
       "      <td>0.000000</td>\n",
       "    </tr>\n",
       "    <tr>\n",
       "      <th>25%</th>\n",
       "      <td>16.000000</td>\n",
       "      <td>2.000000</td>\n",
       "      <td>1.000000</td>\n",
       "      <td>1.000000</td>\n",
       "      <td>1.000000</td>\n",
       "      <td>0.000000</td>\n",
       "      <td>4.000000</td>\n",
       "      <td>3.000000</td>\n",
       "      <td>2.000000</td>\n",
       "      <td>1.000000</td>\n",
       "      <td>1.000000</td>\n",
       "      <td>2.000000</td>\n",
       "      <td>0.000000</td>\n",
       "      <td>10.000000</td>\n",
       "      <td>10.000000</td>\n",
       "      <td>10.000000</td>\n",
       "    </tr>\n",
       "    <tr>\n",
       "      <th>50%</th>\n",
       "      <td>17.000000</td>\n",
       "      <td>2.000000</td>\n",
       "      <td>2.000000</td>\n",
       "      <td>1.000000</td>\n",
       "      <td>2.000000</td>\n",
       "      <td>0.000000</td>\n",
       "      <td>4.000000</td>\n",
       "      <td>3.000000</td>\n",
       "      <td>3.000000</td>\n",
       "      <td>1.000000</td>\n",
       "      <td>2.000000</td>\n",
       "      <td>4.000000</td>\n",
       "      <td>2.000000</td>\n",
       "      <td>11.000000</td>\n",
       "      <td>11.000000</td>\n",
       "      <td>12.000000</td>\n",
       "    </tr>\n",
       "    <tr>\n",
       "      <th>75%</th>\n",
       "      <td>18.000000</td>\n",
       "      <td>4.000000</td>\n",
       "      <td>3.000000</td>\n",
       "      <td>2.000000</td>\n",
       "      <td>2.000000</td>\n",
       "      <td>0.000000</td>\n",
       "      <td>5.000000</td>\n",
       "      <td>4.000000</td>\n",
       "      <td>4.000000</td>\n",
       "      <td>2.000000</td>\n",
       "      <td>3.000000</td>\n",
       "      <td>5.000000</td>\n",
       "      <td>6.000000</td>\n",
       "      <td>13.000000</td>\n",
       "      <td>13.000000</td>\n",
       "      <td>14.000000</td>\n",
       "    </tr>\n",
       "    <tr>\n",
       "      <th>max</th>\n",
       "      <td>22.000000</td>\n",
       "      <td>4.000000</td>\n",
       "      <td>4.000000</td>\n",
       "      <td>4.000000</td>\n",
       "      <td>4.000000</td>\n",
       "      <td>3.000000</td>\n",
       "      <td>5.000000</td>\n",
       "      <td>5.000000</td>\n",
       "      <td>5.000000</td>\n",
       "      <td>5.000000</td>\n",
       "      <td>5.000000</td>\n",
       "      <td>5.000000</td>\n",
       "      <td>32.000000</td>\n",
       "      <td>19.000000</td>\n",
       "      <td>19.000000</td>\n",
       "      <td>19.000000</td>\n",
       "    </tr>\n",
       "  </tbody>\n",
       "</table>\n",
       "</div>"
      ],
      "text/plain": [
       "              age        Medu        Fedu  traveltime   studytime    failures  \\\n",
       "count  649.000000  649.000000  649.000000  649.000000  649.000000  649.000000   \n",
       "mean    16.744222    2.514638    2.306626    1.568567    1.930663    0.221880   \n",
       "std      1.218138    1.134552    1.099931    0.748660    0.829510    0.593235   \n",
       "min     15.000000    0.000000    0.000000    1.000000    1.000000    0.000000   \n",
       "25%     16.000000    2.000000    1.000000    1.000000    1.000000    0.000000   \n",
       "50%     17.000000    2.000000    2.000000    1.000000    2.000000    0.000000   \n",
       "75%     18.000000    4.000000    3.000000    2.000000    2.000000    0.000000   \n",
       "max     22.000000    4.000000    4.000000    4.000000    4.000000    3.000000   \n",
       "\n",
       "           famrel    freetime       goout        Dalc        Walc      health  \\\n",
       "count  649.000000  649.000000  649.000000  649.000000  649.000000  649.000000   \n",
       "mean     3.930663    3.180277    3.184900    1.502311    2.280431    3.536210   \n",
       "std      0.955717    1.051093    1.175766    0.924834    1.284380    1.446259   \n",
       "min      1.000000    1.000000    1.000000    1.000000    1.000000    1.000000   \n",
       "25%      4.000000    3.000000    2.000000    1.000000    1.000000    2.000000   \n",
       "50%      4.000000    3.000000    3.000000    1.000000    2.000000    4.000000   \n",
       "75%      5.000000    4.000000    4.000000    2.000000    3.000000    5.000000   \n",
       "max      5.000000    5.000000    5.000000    5.000000    5.000000    5.000000   \n",
       "\n",
       "         absences          G1          G2          G3  \n",
       "count  649.000000  649.000000  649.000000  649.000000  \n",
       "mean     3.659476   11.399076   11.570108   11.906009  \n",
       "std      4.640759    2.745265    2.913639    3.230656  \n",
       "min      0.000000    0.000000    0.000000    0.000000  \n",
       "25%      0.000000   10.000000   10.000000   10.000000  \n",
       "50%      2.000000   11.000000   11.000000   12.000000  \n",
       "75%      6.000000   13.000000   13.000000   14.000000  \n",
       "max     32.000000   19.000000   19.000000   19.000000  "
      ]
     },
     "execution_count": 6,
     "metadata": {},
     "output_type": "execute_result"
    }
   ],
   "source": [
    "por.describe()"
   ]
  },
  {
   "cell_type": "code",
   "execution_count": 7,
   "metadata": {
    "colab": {
     "base_uri": "https://localhost:8080/"
    },
    "id": "Njnhrg8a5FKb",
    "outputId": "d8e5a0a2-72aa-4473-ee8c-3368106e9536"
   },
   "outputs": [
    {
     "name": "stdout",
     "output_type": "stream",
     "text": [
      "<class 'pandas.core.frame.DataFrame'>\n",
      "RangeIndex: 649 entries, 0 to 648\n",
      "Data columns (total 33 columns):\n",
      " #   Column      Non-Null Count  Dtype \n",
      "---  ------      --------------  ----- \n",
      " 0   school      649 non-null    object\n",
      " 1   sex         649 non-null    object\n",
      " 2   age         649 non-null    int64 \n",
      " 3   address     649 non-null    object\n",
      " 4   famsize     649 non-null    object\n",
      " 5   Pstatus     649 non-null    object\n",
      " 6   Medu        649 non-null    int64 \n",
      " 7   Fedu        649 non-null    int64 \n",
      " 8   Mjob        649 non-null    object\n",
      " 9   Fjob        649 non-null    object\n",
      " 10  reason      649 non-null    object\n",
      " 11  guardian    649 non-null    object\n",
      " 12  traveltime  649 non-null    int64 \n",
      " 13  studytime   649 non-null    int64 \n",
      " 14  failures    649 non-null    int64 \n",
      " 15  schoolsup   649 non-null    object\n",
      " 16  famsup      649 non-null    object\n",
      " 17  paid        649 non-null    object\n",
      " 18  activities  649 non-null    object\n",
      " 19  nursery     649 non-null    object\n",
      " 20  higher      649 non-null    object\n",
      " 21  internet    649 non-null    object\n",
      " 22  romantic    649 non-null    object\n",
      " 23  famrel      649 non-null    int64 \n",
      " 24  freetime    649 non-null    int64 \n",
      " 25  goout       649 non-null    int64 \n",
      " 26  Dalc        649 non-null    int64 \n",
      " 27  Walc        649 non-null    int64 \n",
      " 28  health      649 non-null    int64 \n",
      " 29  absences    649 non-null    int64 \n",
      " 30  G1          649 non-null    int64 \n",
      " 31  G2          649 non-null    int64 \n",
      " 32  G3          649 non-null    int64 \n",
      "dtypes: int64(16), object(17)\n",
      "memory usage: 167.4+ KB\n"
     ]
    }
   ],
   "source": [
    "por.info()"
   ]
  },
  {
   "cell_type": "markdown",
   "metadata": {
    "id": "wK9u28MlG_NH",
    "slideshow": {
     "slide_type": "slide"
    }
   },
   "source": [
    "# **Exploratory Data Analysis**"
   ]
  },
  {
   "cell_type": "markdown",
   "metadata": {
    "id": "tpUNx8foyosS",
    "slideshow": {
     "slide_type": "slide"
    }
   },
   "source": [
    "## Housing demographics"
   ]
  },
  {
   "cell_type": "code",
   "execution_count": 8,
   "metadata": {
    "colab": {
     "base_uri": "https://localhost:8080/",
     "height": 313
    },
    "id": "qbWxOXKmENeV",
    "outputId": "59bbd32d-669a-46dc-cde3-898a640a0320",
    "scrolled": true,
    "slideshow": {
     "slide_type": "fragment"
    }
   },
   "outputs": [
    {
     "data": {
      "text/plain": [
       "Text(0.5, 1.0, 'Address demographics of school student population')"
      ]
     },
     "execution_count": 8,
     "metadata": {},
     "output_type": "execute_result"
    },
    {
     "data": {
      "image/png": "[encoded data removed]",
      "text/plain": [
       "<Figure size 432x288 with 1 Axes>"
      ]
     },
     "metadata": {
      "needs_background": "light"
     },
     "output_type": "display_data"
    }
   ],
   "source": [
    "sns.countplot(data=por, x='school', hue='address')\n",
    "plt.legend(labels=['urban','rural'])\n",
    "plt.title('Address demographics of school student population')"
   ]
  },
  {
   "cell_type": "code",
   "execution_count": 9,
   "metadata": {
    "colab": {
     "base_uri": "https://localhost:8080/",
     "height": 391
    },
    "id": "TALS0oNszknQ",
    "outputId": "f6916942-08ef-46ba-8309-3757d9592cc0",
    "slideshow": {
     "slide_type": "slide"
    }
   },
   "outputs": [
    {
     "data": {
      "text/plain": [
       "Text(0.5, 0.98, 'Student reasons for choosing school')"
      ]
     },
     "execution_count": 9,
     "metadata": {},
     "output_type": "execute_result"
    },
    {
     "data": {
      "image/png": "[encoded data removed]",
      "text/plain": [
       "<Figure size 720x360 with 2 Axes>"
      ]
     },
     "metadata": {
      "needs_background": "light"
     },
     "output_type": "display_data"
    }
   ],
   "source": [
    "ax = sns.catplot(kind='count', data=por, x='reason', hue='address', col='school',legend=False)\n",
    "plt.legend(labels=['urban','rural'])\n",
    "ax.fig.suptitle('Student reasons for choosing school')"
   ]
  },
  {
   "cell_type": "markdown",
   "metadata": {
    "id": "dFXWtb3HDQqe",
    "slideshow": {
     "slide_type": "slide"
    }
   },
   "source": [
    "There is significantly less students living in rural areas that attend the Gabriel Pereira school (GP), while there seems to be more rural students attending Mousinho da Silveira school (MS).\n",
    "\n",
    "Furthermore, we note that rural students tend to care more about the reputation of the school that they are attending than they do about how far is it from their homes.\n",
    "\n",
    "Finally, it is evident that the main reason a student selects a school is because the courses that it offers."
   ]
  },
  {
   "cell_type": "markdown",
   "metadata": {
    "id": "zS4aPMMdy9F1",
    "slideshow": {
     "slide_type": "slide"
    }
   },
   "source": [
    "## Household affairs"
   ]
  },
  {
   "cell_type": "code",
   "execution_count": 10,
   "metadata": {
    "colab": {
     "base_uri": "https://localhost:8080/",
     "height": 369
    },
    "id": "ZaWmi_n2EWnA",
    "outputId": "590858fa-4b4b-40a1-f846-8dff70288bd7",
    "slideshow": {
     "slide_type": "fragment"
    }
   },
   "outputs": [
    {
     "data": {
      "image/png": "[encoded data removed]",
      "text/plain": [
       "<Figure size 360x360 with 1 Axes>"
      ]
     },
     "metadata": {
      "needs_background": "light"
     },
     "output_type": "display_data"
    }
   ],
   "source": [
    "p = sns.catplot(kind='point', ci=None, data=por, x='famrel', y='absences', hue='Pstatus',legend=False)\n",
    "p.set(xlabel='Quality of family relationships',ylabel='School Absences')\n",
    "plt.legend(labels=['Living apart','Living Together'],title='Parental Status')\n",
    "plt.show()"
   ]
  },
  {
   "cell_type": "markdown",
   "metadata": {
    "id": "8QIrNqqXEKAR",
    "slideshow": {
     "slide_type": "slide"
    }
   },
   "source": [
    "We see from the general graph that students living in broken homes generally take more absences than those who don't. Further, we see that absences decreases as the quality of family relationship increases."
   ]
  },
  {
   "cell_type": "code",
   "execution_count": 11,
   "metadata": {
    "colab": {
     "base_uri": "https://localhost:8080/",
     "height": 387
    },
    "id": "WCZeqrUo0gDu",
    "outputId": "3f7e45a4-ca11-4676-848c-4303d3ae86cd",
    "slideshow": {
     "slide_type": "slide"
    }
   },
   "outputs": [
    {
     "data": {
      "text/plain": [
       "<matplotlib.legend.Legend at 0x28725746cd0>"
      ]
     },
     "execution_count": 11,
     "metadata": {},
     "output_type": "execute_result"
    },
    {
     "data": {
      "image/png": "[encoded data removed]",
      "text/plain": [
       "<Figure size 1080x360 with 3 Axes>"
      ]
     },
     "metadata": {
      "needs_background": "light"
     },
     "output_type": "display_data"
    }
   ],
   "source": [
    "p = sns.catplot(kind='point', data=por, x='famrel', y='absences', ci=None, hue='Pstatus', col='guardian',legend=False)\n",
    "p.set(xlabel='Quality of family relationships',ylabel='School Absences')\n",
    "plt.legend(labels=['Living apart','Living Together'],title='Parental Status')"
   ]
  },
  {
   "cell_type": "markdown",
   "metadata": {
    "id": "XIkUVvoaFL6H",
    "slideshow": {
     "slide_type": "fragment"
    }
   },
   "source": [
    "We see that if the kid stays with their mother after the divorce, the number of absences is similar to that before the divorce.\n",
    "\n",
    "If the kid stays with someone who isn't their mother or father, the number of absences is higher than the other classes for poor family relationships.\n",
    "However, an interesting trend to note is that, for better family relationships, a kid's number of absences in a broken family is actually less than that of a whole one."
   ]
  },
  {
   "cell_type": "markdown",
   "metadata": {
    "id": "-LruVjmMzXj9",
    "slideshow": {
     "slide_type": "slide"
    }
   },
   "source": [
    "## Social life"
   ]
  },
  {
   "cell_type": "code",
   "execution_count": 12,
   "metadata": {
    "colab": {
     "base_uri": "https://localhost:8080/",
     "height": 739
    },
    "id": "WBs4YFZiJPPv",
    "outputId": "b8c03666-26c4-4ebc-fded-d7f062cbc5f7",
    "slideshow": {
     "slide_type": "fragment"
    }
   },
   "outputs": [
    {
     "data": {
      "text/plain": [
       "<matplotlib.legend.Legend at 0x28725a3c610>"
      ]
     },
     "execution_count": 12,
     "metadata": {},
     "output_type": "execute_result"
    },
    {
     "data": {
      "image/png": "[encoded data removed]",
      "text/plain": [
       "<Figure size 360x360 with 1 Axes>"
      ]
     },
     "metadata": {
      "needs_background": "light"
     },
     "output_type": "display_data"
    },
    {
     "data": {
      "image/png": "[encoded data removed]",
      "text/plain": [
       "<Figure size 360x360 with 1 Axes>"
      ]
     },
     "metadata": {
      "needs_background": "light"
     },
     "output_type": "display_data"
    }
   ],
   "source": [
    "p = sns.catplot(kind='point', x='goout', hue='romantic', y='G3', data=por, ci=None,legend=False)\n",
    "p.set(xlabel='Degree of outgoingness with friends',ylabel='Final Grade (Portuguese)')\n",
    "plt.legend(labels=['No','Yes'],title='In a romantic relationship?')\n",
    "p = sns.catplot(kind='point', x='goout', hue='romantic', y='G3', data=mat, ci=None,legend=False)\n",
    "p.set(xlabel='Degree of outgoingness with friends',ylabel='Final Grade (Math)')\n",
    "plt.legend(labels=['No','Yes'],title='In a romantic relationship?')"
   ]
  },
  {
   "cell_type": "markdown",
   "metadata": {
    "id": "qpWJKVEFKRyd",
    "slideshow": {
     "slide_type": "slide"
    }
   },
   "source": [
    "###**Portuguese**\n",
    "For portuguese students, those who minimally go out and those who go out all the time seem to perform worse than those who are somewhere in between.\n",
    "\n",
    "Moreover, at the optimum point of going out (2), students in a romantic relationship perform slightly better than those who aren't. While for other points, students without a romantic relationship perform better than those who are.\n",
    "\n",
    "Furthermore, it appears that those in a romantic relationship expriences a steaper decrease in grades as they go out more.\n",
    "\n",
    "###**Mathematics**\n",
    "For mathematics students, it is interesting to note that those who are not in a romantic relationship outperform those who are for all degrees of out-going-ness.\n",
    "\n",
    "Furthermore, single students with low degrees of out-going-ness (1) perform on par with those at the optimum degree of out-going-ness (2).\n",
    "This makes sense, as portuguese is a subject that requires talking, while Mathematics does not.\n",
    "\n",
    "It is also evident that the more a student goes out, the lower their Math grade is.\n",
    "\n",
    "An interesting point to note is that those in a romantic relationship and are not out-going (1) (somehow these aren't mutually exclusive) perform very badly for math."
   ]
  },
  {
   "cell_type": "markdown",
   "metadata": {
    "id": "cMvnu-EW_qP2",
    "slideshow": {
     "slide_type": "slide"
    }
   },
   "source": [
    "# **Data Preparation**"
   ]
  },
  {
   "cell_type": "code",
   "execution_count": 13,
   "metadata": {
    "id": "Tfb8Fr7h_uNd",
    "slideshow": {
     "slide_type": "fragment"
    }
   },
   "outputs": [],
   "source": [
    "# Define an average score to simplify academic performance into a single metric\n",
    "por = por.assign(G_mean = (por['G1'] + por['G2'] + por['G3'])/3)\n",
    "Y = por[['Dalc', 'Walc', 'G1', 'G2', 'G3', 'G_mean']]\n",
    "y = Y['G_mean']\n",
    "X_impure = por.drop(columns=['Dalc', 'Walc', 'G1', 'G2', 'G3', 'G_mean'])\n",
    "# categorical (nominal) features\n",
    "cat = X_impure[['Mjob', 'Fjob', 'reason', 'guardian']]\n",
    "# binary features\n",
    "bin = X_impure[['school', 'sex', 'address', 'famsize', 'Pstatus', 'schoolsup', 'famsup', 'paid', 'activities', 'nursery', 'higher', 'internet', 'romantic']]\n",
    "rest = X_impure.drop(columns=['Mjob', 'Fjob', 'reason', 'guardian', 'school', 'sex', 'address', 'famsize', 'Pstatus', 'schoolsup', 'famsup', 'paid', 'activities', 'nursery', 'higher', 'internet', 'romantic'])\n",
    "# Use one-hot encoding for categorical (nominal) variables\n",
    "cat_dummies = pd.get_dummies(cat)\n",
    "# Use ordinal encoders for categorical (ordinal) variables\n",
    "oe = OrdinalEncoder()\n",
    "oe.fit(bin)\n",
    "bin_bin = pd.DataFrame(oe.transform(bin), columns=oe.feature_names_in_)\n",
    "X = pd.concat([bin_bin, cat_dummies, rest], axis=1)"
   ]
  },
  {
   "cell_type": "code",
   "execution_count": 14,
   "metadata": {
    "id": "6aJp5jZsTghf",
    "slideshow": {
     "slide_type": "fragment"
    }
   },
   "outputs": [],
   "source": [
    "x_train, x_test, y_train, y_test = train_test_split(X, y, test_size=0.3, random_state=42)"
   ]
  },
  {
   "cell_type": "markdown",
   "metadata": {
    "id": "AVcvd8ZmOWvH",
    "slideshow": {
     "slide_type": "skip"
    }
   },
   "source": [
    "# **Using ML Models to predict Grades**"
   ]
  },
  {
   "cell_type": "code",
   "execution_count": 15,
   "metadata": {
    "id": "X5BaKUuoKFyg"
   },
   "outputs": [],
   "source": [
    "regs = ['Dummy', 'Linear Regression', 'Decision Tree', 'Random Forest', 'Gradient Boosting Regressor', 'Linear Regression with PCA', 'Decision Tree with PCA', 'Random Forest with PCA', 'Gradient Boosting Regressor with PCA']\n",
    "acc = []"
   ]
  },
  {
   "cell_type": "markdown",
   "metadata": {
    "id": "HzaOalZSN8aK",
    "slideshow": {
     "slide_type": "slide"
    }
   },
   "source": [
    "## Dummy Regressor\n",
    "As a baseline for fairly judging the performance of our models, we will test the performance of a dummy regressor, which will always predict the median value from the training set."
   ]
  },
  {
   "cell_type": "code",
   "execution_count": 16,
   "metadata": {
    "colab": {
     "base_uri": "https://localhost:8080/"
    },
    "id": "26vOXpRqoggn",
    "outputId": "2ecf638e-ff04-45f3-bb8c-5d8cb2cbc8d2",
    "slideshow": {
     "slide_type": "fragment"
    }
   },
   "outputs": [
    {
     "name": "stdout",
     "output_type": "stream",
     "text": [
      "-0.033217310630512475\n"
     ]
    }
   ],
   "source": [
    "dummy = DummyRegressor(strategy='median')\n",
    "dummy.fit(x_train, y_train)\n",
    "acc.append(dummy.score(x_test, y_test))\n",
    "print(dummy.score(x_test, y_test))"
   ]
  },
  {
   "cell_type": "markdown",
   "metadata": {
    "id": "wGz02-4B8C3z",
    "slideshow": {
     "slide_type": "slide"
    }
   },
   "source": [
    "## Linear Regression"
   ]
  },
  {
   "cell_type": "code",
   "execution_count": 17,
   "metadata": {
    "colab": {
     "base_uri": "https://localhost:8080/"
    },
    "id": "2aEsrE27Kz8X",
    "outputId": "1c8a8b05-0e69-4b00-8847-5d2357f12f5f",
    "slideshow": {
     "slide_type": "fragment"
    }
   },
   "outputs": [
    {
     "name": "stdout",
     "output_type": "stream",
     "text": [
      "0.20664447390235696\n"
     ]
    }
   ],
   "source": [
    "reg = LinearRegression().fit(x_train, y_train)\n",
    "y_hat = reg.predict(x_test)\n",
    "acc.append(reg.score(x_test,y_test))\n",
    "print(reg.score(x_test,y_test))"
   ]
  },
  {
   "cell_type": "code",
   "execution_count": 18,
   "metadata": {
    "colab": {
     "base_uri": "https://localhost:8080/",
     "height": 298
    },
    "id": "FcADnGbkOg1R",
    "outputId": "c7aadfab-b06d-4c02-e6df-8c21d23b84ef",
    "slideshow": {
     "slide_type": "fragment"
    }
   },
   "outputs": [
    {
     "data": {
      "text/plain": [
       "<matplotlib.legend.Legend at 0x287234c94c0>"
      ]
     },
     "execution_count": 18,
     "metadata": {},
     "output_type": "execute_result"
    },
    {
     "data": {
      "image/png": "[encoded data removed]",
      "text/plain": [
       "<Figure size 432x288 with 1 Axes>"
      ]
     },
     "metadata": {
      "needs_background": "light"
     },
     "output_type": "display_data"
    }
   ],
   "source": [
    "sns.kdeplot(y_test, color='r', label='Actual Value')\n",
    "sns.kdeplot(y_hat,  color='b', label='Fitted Value')\n",
    "plt.legend()"
   ]
  },
  {
   "cell_type": "markdown",
   "metadata": {
    "id": "XzY0epzmPcfZ"
   },
   "source": [
    "While the peaks of the kde plot of the model have corresponding peaks in the actual ground truth, it is biased towards a grade near 12 (possibly because 12 is the average mean grade over the whole dataset) and underfits the ground truth."
   ]
  },
  {
   "cell_type": "markdown",
   "metadata": {
    "id": "C7J04aADQdxp",
    "slideshow": {
     "slide_type": "slide"
    }
   },
   "source": [
    "## Decision Tree\n",
    "Due to underfitting by the linear regression model, we will try a more complex decision tree that could possibly better account for the nonlinearity in the data."
   ]
  },
  {
   "cell_type": "code",
   "execution_count": 19,
   "metadata": {
    "colab": {
     "base_uri": "https://localhost:8080/"
    },
    "id": "HHgVduNELLYy",
    "outputId": "9d0a0124-ddce-4340-84da-d416ea16153d",
    "slideshow": {
     "slide_type": "fragment"
    }
   },
   "outputs": [
    {
     "name": "stdout",
     "output_type": "stream",
     "text": [
      "0.17731101706491348\n"
     ]
    }
   ],
   "source": [
    "dt = DecisionTreeRegressor(max_depth=2).fit(x_train,y_train)\n",
    "y_hat = dt.predict(x_test)\n",
    "acc.append(dt.score(x_test,y_test))\n",
    "print(dt.score(x_test,y_test))"
   ]
  },
  {
   "cell_type": "code",
   "execution_count": 20,
   "metadata": {
    "colab": {
     "base_uri": "https://localhost:8080/",
     "height": 298
    },
    "id": "5apMBA1HQu50",
    "outputId": "64df8fa1-1cd3-4fbe-b2e9-aa4d7700ea24",
    "slideshow": {
     "slide_type": "fragment"
    }
   },
   "outputs": [
    {
     "data": {
      "text/plain": [
       "<matplotlib.legend.Legend at 0x28723496b80>"
      ]
     },
     "execution_count": 20,
     "metadata": {},
     "output_type": "execute_result"
    },
    {
     "data": {
      "image/png": "[encoded data removed]",
      "text/plain": [
       "<Figure size 432x288 with 1 Axes>"
      ]
     },
     "metadata": {
      "needs_background": "light"
     },
     "output_type": "display_data"
    }
   ],
   "source": [
    "sns.kdeplot(y_test, color='r', label='Actual Value')\n",
    "sns.kdeplot(y_hat,  color='b', label='Fitted Value')\n",
    "plt.legend()"
   ]
  },
  {
   "cell_type": "markdown",
   "metadata": {
    "id": "1cCRn-Y9kLF-",
    "slideshow": {
     "slide_type": "fragment"
    }
   },
   "source": [
    "The decision tree does not seem to do very well and fails to even describe the general trend of the score distribution of the test set. Perhaps making use of ensemble learning will allow the model to pick up finer trends."
   ]
  },
  {
   "cell_type": "markdown",
   "metadata": {
    "id": "eMRKullnLWSu",
    "slideshow": {
     "slide_type": "slide"
    }
   },
   "source": [
    "## Random Forests"
   ]
  },
  {
   "cell_type": "code",
   "execution_count": 21,
   "metadata": {
    "colab": {
     "base_uri": "https://localhost:8080/"
    },
    "id": "bwuPDeFOTplo",
    "outputId": "929379ca-5804-4d79-ab4b-4adfc7cfe7b6",
    "slideshow": {
     "slide_type": "fragment"
    }
   },
   "outputs": [
    {
     "name": "stdout",
     "output_type": "stream",
     "text": [
      "0.24339149844456065\n"
     ]
    }
   ],
   "source": [
    "rf = RandomForestRegressor(n_estimators=50, random_state=42)\n",
    "rf.fit(x_train, y_train)\n",
    "y_hat = rf.predict(x_test)\n",
    "acc.append(rf.score(x_test, y_test))\n",
    "print(rf.score(x_test, y_test))"
   ]
  },
  {
   "cell_type": "code",
   "execution_count": 22,
   "metadata": {
    "colab": {
     "base_uri": "https://localhost:8080/",
     "height": 298
    },
    "id": "Jc1C3JHXklIm",
    "outputId": "e11affff-cf2b-4d73-d421-b5a0cdf1a3de",
    "slideshow": {
     "slide_type": "fragment"
    }
   },
   "outputs": [
    {
     "data": {
      "text/plain": [
       "<matplotlib.legend.Legend at 0x287257e9220>"
      ]
     },
     "execution_count": 22,
     "metadata": {},
     "output_type": "execute_result"
    },
    {
     "data": {
      "image/png": "[encoded data removed]",
      "text/plain": [
       "<Figure size 432x288 with 1 Axes>"
      ]
     },
     "metadata": {
      "needs_background": "light"
     },
     "output_type": "display_data"
    }
   ],
   "source": [
    "sns.kdeplot(y_test, color='r', label='Actual Value')\n",
    "sns.kdeplot(y_hat,  color='b', label='Fitted Value')\n",
    "plt.legend()"
   ]
  },
  {
   "cell_type": "markdown",
   "metadata": {
    "id": "HXZnfAo6kyvO"
   },
   "source": [
    "The random forest model performs slightly better than the regression model as it fits well for mean grade values of 4-7, but suffers from a similar explosion in predictions."
   ]
  },
  {
   "cell_type": "code",
   "execution_count": 23,
   "metadata": {
    "colab": {
     "base_uri": "https://localhost:8080/",
     "height": 369
    },
    "id": "x3UrLNiVT9w3",
    "outputId": "6a54837f-397c-45e0-97ee-5f9d07801ee5",
    "slideshow": {
     "slide_type": "slide"
    }
   },
   "outputs": [
    {
     "data": {
      "image/png": "[encoded data removed]",
      "text/plain": [
       "<Figure size 360x360 with 1 Axes>"
      ]
     },
     "metadata": {
      "needs_background": "light"
     },
     "output_type": "display_data"
    }
   ],
   "source": [
    "plot_data = pd.DataFrame({'features': list(X.columns), 'impt': rf.feature_importances_})\n",
    "sns.catplot(kind='bar', data=plot_data.sort_values('impt',ascending=False), x='impt', y='features')\n",
    "plt.show()"
   ]
  },
  {
   "cell_type": "markdown",
   "metadata": {
    "id": "AJkYIxl4BYs4",
    "slideshow": {
     "slide_type": "fragment"
    }
   },
   "source": [
    "As the random forest model was able to outperform the dummy model, it must have modelled some interesting features about the dataset.\n",
    "\n",
    "Taking a peek underneath the hood reveals that failure(the number of **past** class failures) is the strongest indicator of performance in the current class. Perhaps the old Chinese proverb of \"Failure is the mother of success\" isn't really far off the mark"
   ]
  },
  {
   "cell_type": "markdown",
   "metadata": {
    "id": "QI7J-WogLnYI",
    "slideshow": {
     "slide_type": "slide"
    }
   },
   "source": [
    "## Gradient Boosting Regressor"
   ]
  },
  {
   "cell_type": "code",
   "execution_count": 24,
   "metadata": {
    "colab": {
     "base_uri": "https://localhost:8080/"
    },
    "id": "9DFxcIhaLm4e",
    "outputId": "8729b6ee-05f7-4c9f-c961-57cb2fc49a35",
    "slideshow": {
     "slide_type": "fragment"
    }
   },
   "outputs": [
    {
     "name": "stdout",
     "output_type": "stream",
     "text": [
      "0.19820021148549716\n"
     ]
    }
   ],
   "source": [
    "from sklearn.ensemble import GradientBoostingRegressor\n",
    "greg = GradientBoostingRegressor()\n",
    "greg.fit(x_train, y_train)\n",
    "y_pred = greg.predict(x_test)\n",
    "acc.append(greg.score(x_test, y_test))\n",
    "print(greg.score(x_test, y_test))"
   ]
  },
  {
   "cell_type": "code",
   "execution_count": 25,
   "metadata": {
    "colab": {
     "base_uri": "https://localhost:8080/",
     "height": 298
    },
    "id": "5epPs9aRL_Gc",
    "outputId": "2bdcfede-cd83-4c7d-dbe6-84abc7f5b8d0",
    "slideshow": {
     "slide_type": "fragment"
    }
   },
   "outputs": [
    {
     "data": {
      "text/plain": [
       "<matplotlib.legend.Legend at 0x28727d448e0>"
      ]
     },
     "execution_count": 25,
     "metadata": {},
     "output_type": "execute_result"
    },
    {
     "data": {
      "image/png": "[encoded data removed]",
      "text/plain": [
       "<Figure size 432x288 with 1 Axes>"
      ]
     },
     "metadata": {
      "needs_background": "light"
     },
     "output_type": "display_data"
    }
   ],
   "source": [
    "sns.kdeplot(y_test, color='r', label='Actual Value')\n",
    "sns.kdeplot(y_pred,  color='b', label='Fitted Value')\n",
    "plt.legend()"
   ]
  },
  {
   "cell_type": "markdown",
   "metadata": {
    "id": "bAMpqCGrV4HY",
    "slideshow": {
     "slide_type": "slide"
    }
   },
   "source": [
    "### PCA\n",
    "We will perform Principal component analysis to attempt to improve the model by reducing the dimensions of the problem."
   ]
  },
  {
   "cell_type": "code",
   "execution_count": 51,
   "metadata": {
    "colab": {
     "base_uri": "https://localhost:8080/",
     "height": 409
    },
    "id": "Qx-cg0ZeV3gc",
    "outputId": "69a8d3a4-d0dc-4f6b-c986-bf366e2c51d9",
    "slideshow": {
     "slide_type": "fragment"
    }
   },
   "outputs": [
    {
     "data": {
      "image/png": "[encoded data removed]",
      "text/plain": [
       "<Figure size 360x360 with 1 Axes>"
      ]
     },
     "metadata": {
      "needs_background": "light"
     },
     "output_type": "display_data"
    }
   ],
   "source": [
    "from sklearn.decomposition import PCA\n",
    "from sklearn.preprocessing import StandardScaler\n",
    "pca = PCA(.95)\n",
    "pcomps = pca.fit(x_train)\n",
    "x_train_pcom = pca.transform(x_train)\n",
    "x_test_pcom = pca.transform(x_test)\n",
    "sns.catplot(kind='bar', data=pd.DataFrame({'comp': range(pca.n_components_), 'var': pca.explained_variance_}),x='comp', y='var')\n",
    "plt.xticks(rotation=90)\n",
    "plt.show()"
   ]
  },
  {
   "cell_type": "code",
   "execution_count": 27,
   "metadata": {
    "colab": {
     "base_uri": "https://localhost:8080/"
    },
    "id": "3y_WYJ-RjfND",
    "outputId": "8c33616d-c03e-499d-dcd2-10ff8a14ba4b",
    "slideshow": {
     "slide_type": "slide"
    }
   },
   "outputs": [
    {
     "name": "stdout",
     "output_type": "stream",
     "text": [
      "0.24430452942781056\n"
     ]
    }
   ],
   "source": [
    "reg = LinearRegression().fit(x_train_pcom, y_train)\n",
    "y_hat = reg.predict(x_test_pcom)\n",
    "acc.append(reg.score(x_test_pcom,y_test))\n",
    "print(reg.score(x_test_pcom,y_test))"
   ]
  },
  {
   "cell_type": "markdown",
   "metadata": {
    "id": "VJdokl2y2I1L"
   },
   "source": [
    "The linear regression model has improved greatly, becoming the best model so far, how will the decision tree models fare?"
   ]
  },
  {
   "cell_type": "code",
   "execution_count": 28,
   "metadata": {
    "colab": {
     "base_uri": "https://localhost:8080/",
     "height": 298
    },
    "id": "YoakNrvasCUg",
    "outputId": "f2144af1-cd0b-424a-e4b1-eea52ea8f77f",
    "slideshow": {
     "slide_type": "fragment"
    }
   },
   "outputs": [
    {
     "data": {
      "text/plain": [
       "<matplotlib.legend.Legend at 0x287255d2070>"
      ]
     },
     "execution_count": 28,
     "metadata": {},
     "output_type": "execute_result"
    },
    {
     "data": {
      "image/png": "[encoded data removed]",
      "text/plain": [
       "<Figure size 432x288 with 1 Axes>"
      ]
     },
     "metadata": {
      "needs_background": "light"
     },
     "output_type": "display_data"
    }
   ],
   "source": [
    "sns.kdeplot(y_test, color='r', label='Actual Value')\n",
    "sns.kdeplot(y_hat,  color='b', label='Fitted Value')\n",
    "plt.legend()"
   ]
  },
  {
   "cell_type": "code",
   "execution_count": 29,
   "metadata": {
    "colab": {
     "base_uri": "https://localhost:8080/"
    },
    "id": "2S38Yrg11sAQ",
    "outputId": "d6f2fb64-5bb4-41b9-c8cd-0dbd19eb8fde",
    "slideshow": {
     "slide_type": "slide"
    }
   },
   "outputs": [
    {
     "name": "stdout",
     "output_type": "stream",
     "text": [
      "0.07848754987423912\n"
     ]
    }
   ],
   "source": [
    "from sklearn.tree import DecisionTreeRegressor\n",
    "dt = DecisionTreeRegressor(max_depth=2).fit(x_train_pcom,y_train)\n",
    "y_hat = dt.predict(x_test_pcom)\n",
    "acc.append(dt.score(x_test_pcom,y_test))\n",
    "print(dt.score(x_test_pcom,y_test))"
   ]
  },
  {
   "cell_type": "code",
   "execution_count": 30,
   "metadata": {
    "colab": {
     "base_uri": "https://localhost:8080/",
     "height": 298
    },
    "id": "MYUYUnem1r7n",
    "outputId": "936a2d4a-6678-489a-f271-8c14e85a162a",
    "slideshow": {
     "slide_type": "fragment"
    }
   },
   "outputs": [
    {
     "data": {
      "text/plain": [
       "<matplotlib.legend.Legend at 0x287292fa0d0>"
      ]
     },
     "execution_count": 30,
     "metadata": {},
     "output_type": "execute_result"
    },
    {
     "data": {
      "image/png": "[encoded data removed]",
      "text/plain": [
       "<Figure size 432x288 with 1 Axes>"
      ]
     },
     "metadata": {
      "needs_background": "light"
     },
     "output_type": "display_data"
    }
   ],
   "source": [
    "sns.kdeplot(y_test, color='r', label='Actual Value')\n",
    "sns.kdeplot(y_hat,  color='b', label='Fitted Value')\n",
    "plt.legend()"
   ]
  },
  {
   "cell_type": "code",
   "execution_count": 31,
   "metadata": {
    "colab": {
     "base_uri": "https://localhost:8080/"
    },
    "id": "1AfdJyO2sevw",
    "outputId": "c3974941-76bf-4f1f-9570-b938fd202e01",
    "slideshow": {
     "slide_type": "slide"
    }
   },
   "outputs": [
    {
     "name": "stdout",
     "output_type": "stream",
     "text": [
      "0.20571022632536762\n"
     ]
    }
   ],
   "source": [
    "rf = RandomForestRegressor(n_estimators=50, random_state=42)\n",
    "rf.fit(x_train_pcom, y_train)\n",
    "y_hat = rf.predict(x_test_pcom)\n",
    "acc.append(rf.score(x_test_pcom, y_test))\n",
    "print(rf.score(x_test_pcom, y_test))"
   ]
  },
  {
   "cell_type": "code",
   "execution_count": 32,
   "metadata": {
    "colab": {
     "base_uri": "https://localhost:8080/",
     "height": 298
    },
    "id": "yHSLiOJq1XAo",
    "outputId": "acae4e99-f0b6-4016-b434-be9c72e5959a",
    "slideshow": {
     "slide_type": "fragment"
    }
   },
   "outputs": [
    {
     "data": {
      "text/plain": [
       "<matplotlib.legend.Legend at 0x28729305d30>"
      ]
     },
     "execution_count": 32,
     "metadata": {},
     "output_type": "execute_result"
    },
    {
     "data": {
      "image/png": "[encoded data removed]",
      "text/plain": [
       "<Figure size 432x288 with 1 Axes>"
      ]
     },
     "metadata": {
      "needs_background": "light"
     },
     "output_type": "display_data"
    }
   ],
   "source": [
    "sns.kdeplot(y_test, color='r', label='Actual Value')\n",
    "sns.kdeplot(y_hat,  color='b', label='Fitted Value')\n",
    "plt.legend()"
   ]
  },
  {
   "cell_type": "markdown",
   "metadata": {
    "id": "92U_4et-2aor",
    "slideshow": {
     "slide_type": "fragment"
    }
   },
   "source": [
    "The decision tree models seem to perform worse after PCA was applied! Perhaps we may improve the ensemble random forest model by making use of gradient boosting so that it can better adjust to features in the data."
   ]
  },
  {
   "cell_type": "code",
   "execution_count": 33,
   "metadata": {
    "colab": {
     "base_uri": "https://localhost:8080/"
    },
    "id": "Q5XDWT3sL8V6",
    "outputId": "392ca528-62ea-4ce1-c077-8e816b4a9c92",
    "slideshow": {
     "slide_type": "slide"
    }
   },
   "outputs": [
    {
     "name": "stdout",
     "output_type": "stream",
     "text": [
      "0.2140069514324291\n"
     ]
    }
   ],
   "source": [
    "greg = GradientBoostingRegressor()\n",
    "greg.fit(x_train_pcom, y_train)\n",
    "y_pred = greg.predict(x_test_pcom)\n",
    "acc.append(greg.score(x_test_pcom, y_test))\n",
    "print(greg.score(x_test_pcom, y_test))"
   ]
  },
  {
   "cell_type": "code",
   "execution_count": 34,
   "metadata": {
    "colab": {
     "base_uri": "https://localhost:8080/",
     "height": 298
    },
    "id": "xiQeGtwmMlbC",
    "outputId": "09dc08c2-b19f-41d4-ee25-8b3c366cebfa",
    "slideshow": {
     "slide_type": "fragment"
    }
   },
   "outputs": [
    {
     "data": {
      "text/plain": [
       "<matplotlib.legend.Legend at 0x28723496cd0>"
      ]
     },
     "execution_count": 34,
     "metadata": {},
     "output_type": "execute_result"
    },
    {
     "data": {
      "image/png": "[encoded data removed]",
      "text/plain": [
       "<Figure size 432x288 with 1 Axes>"
      ]
     },
     "metadata": {
      "needs_background": "light"
     },
     "output_type": "display_data"
    }
   ],
   "source": [
    "sns.kdeplot(y_test, color='r', label='Actual Value')\n",
    "sns.kdeplot(y_pred,  color='b', label='Fitted Value')\n",
    "plt.legend()"
   ]
  },
  {
   "cell_type": "code",
   "execution_count": 50,
   "metadata": {
    "id": "YyIkJAnX3vUF",
    "slideshow": {
     "slide_type": "slide"
    }
   },
   "outputs": [
    {
     "data": {
      "text/html": [
       "<div>\n",
       "<style scoped>\n",
       "    .dataframe tbody tr th:only-of-type {\n",
       "        vertical-align: middle;\n",
       "    }\n",
       "\n",
       "    .dataframe tbody tr th {\n",
       "        vertical-align: top;\n",
       "    }\n",
       "\n",
       "    .dataframe thead th {\n",
       "        text-align: right;\n",
       "    }\n",
       "</style>\n",
       "<table border=\"1\" class=\"dataframe\">\n",
       "  <thead>\n",
       "    <tr style=\"text-align: right;\">\n",
       "      <th></th>\n",
       "      <th>Accuracy</th>\n",
       "    </tr>\n",
       "  </thead>\n",
       "  <tbody>\n",
       "    <tr>\n",
       "      <th>Linear Regression with PCA</th>\n",
       "      <td>0.244305</td>\n",
       "    </tr>\n",
       "    <tr>\n",
       "      <th>Random Forest</th>\n",
       "      <td>0.243391</td>\n",
       "    </tr>\n",
       "    <tr>\n",
       "      <th>Gradient Boosting Regressor with PCA</th>\n",
       "      <td>0.214007</td>\n",
       "    </tr>\n",
       "    <tr>\n",
       "      <th>Linear Regression</th>\n",
       "      <td>0.206644</td>\n",
       "    </tr>\n",
       "    <tr>\n",
       "      <th>Random Forest with PCA</th>\n",
       "      <td>0.205710</td>\n",
       "    </tr>\n",
       "    <tr>\n",
       "      <th>Gradient Boosting Regressor</th>\n",
       "      <td>0.198200</td>\n",
       "    </tr>\n",
       "    <tr>\n",
       "      <th>Decision Tree</th>\n",
       "      <td>0.177311</td>\n",
       "    </tr>\n",
       "    <tr>\n",
       "      <th>Decision Tree with PCA</th>\n",
       "      <td>0.078488</td>\n",
       "    </tr>\n",
       "    <tr>\n",
       "      <th>Dummy</th>\n",
       "      <td>-0.033217</td>\n",
       "    </tr>\n",
       "  </tbody>\n",
       "</table>\n",
       "</div>"
      ],
      "text/plain": [
       "                                      Accuracy\n",
       "Linear Regression with PCA            0.244305\n",
       "Random Forest                         0.243391\n",
       "Gradient Boosting Regressor with PCA  0.214007\n",
       "Linear Regression                     0.206644\n",
       "Random Forest with PCA                0.205710\n",
       "Gradient Boosting Regressor           0.198200\n",
       "Decision Tree                         0.177311\n",
       "Decision Tree with PCA                0.078488\n",
       "Dummy                                -0.033217"
      ]
     },
     "execution_count": 50,
     "metadata": {},
     "output_type": "execute_result"
    }
   ],
   "source": [
    "mdls = pd.DataFrame.from_records([{i:j for (i,j) in list(zip(regs, acc))}]).T.sort_values(by=0, axis=0, ascending=False).rename(columns={0:'Accuracy'})\n",
    "mdls"
   ]
  },
  {
   "cell_type": "markdown",
   "metadata": {
    "id": "2IGwPFbQLEqE",
    "slideshow": {
     "slide_type": "fragment"
    }
   },
   "source": [
    "From this we see that Linear Regression with PCA is the best model for the job with Random Forest coming in at a very close second"
   ]
  },
  {
   "cell_type": "markdown",
   "metadata": {
    "id": "AlHv1hH3Po6_",
    "slideshow": {
     "slide_type": "slide"
    }
   },
   "source": [
    "# **Using ML Models to predict Alcohol Consumption**"
   ]
  },
  {
   "cell_type": "code",
   "execution_count": 36,
   "metadata": {
    "id": "d4EYRGxO6cEO"
   },
   "outputs": [],
   "source": [
    "#Extract the alcohol consumption label\n",
    "Y_alc = Y[['Dalc', 'Walc']] # dalc = workday alcohol consumption, walc = weekend alcohol consumption"
   ]
  },
  {
   "cell_type": "markdown",
   "metadata": {
    "id": "TkBXMtG96sKR",
    "slideshow": {
     "slide_type": "slide"
    }
   },
   "source": [
    "Let's examine the relationship between this two variables and see if we can reliably use one to represent both"
   ]
  },
  {
   "cell_type": "code",
   "execution_count": 37,
   "metadata": {
    "colab": {
     "base_uri": "https://localhost:8080/",
     "height": 387
    },
    "id": "N0zYAoa96mx7",
    "outputId": "6a724afa-dd4e-423e-d137-963021418858",
    "slideshow": {
     "slide_type": "fragment"
    }
   },
   "outputs": [
    {
     "data": {
      "text/plain": [
       "<seaborn.axisgrid.FacetGrid at 0x28727fad190>"
      ]
     },
     "execution_count": 37,
     "metadata": {},
     "output_type": "execute_result"
    },
    {
     "data": {
      "image/png": "[encoded data removed]",
      "text/plain": [
       "<Figure size 360x360 with 1 Axes>"
      ]
     },
     "metadata": {
      "needs_background": "light"
     },
     "output_type": "display_data"
    }
   ],
   "source": [
    "ax = sns.catplot(kind='point', data=Y_alc, x='Dalc', y='Walc', ci=None)\n",
    "ax.set(xlabel='workday alcohol consumption',ylabel='weekend alcohol consumption')"
   ]
  },
  {
   "cell_type": "markdown",
   "metadata": {
    "id": "4j5yWIAu66Uc",
    "slideshow": {
     "slide_type": "fragment"
    }
   },
   "source": [
    "We see that students who drink more on workdays (Dalc) also drink more on the weekends (Walc). \n",
    "\n",
    "As such, determining the relationship between the other features and the work day alcohol consumption is enough."
   ]
  },
  {
   "cell_type": "code",
   "execution_count": 38,
   "metadata": {
    "id": "uacJo0337RQ0"
   },
   "outputs": [],
   "source": [
    "#We prepare our data like before\n",
    "y = Y_alc['Dalc']\n",
    "x_train, x_test, y_train, y_test = train_test_split(X, y, test_size=0.3, random_state=42)"
   ]
  },
  {
   "cell_type": "code",
   "execution_count": 39,
   "metadata": {
    "colab": {
     "base_uri": "https://localhost:8080/",
     "height": 279
    },
    "id": "uCllKA9c-OZh",
    "outputId": "100e7f2d-68dc-446c-8800-e13127ac53ba",
    "slideshow": {
     "slide_type": "slide"
    }
   },
   "outputs": [
    {
     "data": {
      "image/png": "[encoded data removed]",
      "text/plain": [
       "<Figure size 432x288 with 1 Axes>"
      ]
     },
     "metadata": {
      "needs_background": "light"
     },
     "output_type": "display_data"
    }
   ],
   "source": [
    "ax = sns.countplot(y)"
   ]
  },
  {
   "cell_type": "markdown",
   "metadata": {
    "id": "QKu3kLBACz30",
    "slideshow": {
     "slide_type": "fragment"
    }
   },
   "source": [
    "The classes seems to be skewed towards 1 (very low alcohol consumption during weekdays) which makes sense. As this is a skewed class problem, the main metric that we'll be interested in is the f1 score"
   ]
  },
  {
   "cell_type": "code",
   "execution_count": 40,
   "metadata": {
    "id": "Z0WviwXGFtVj"
   },
   "outputs": [],
   "source": [
    "clfs = ['Dummy', 'LogisticRegression', 'Support Vector Machine', 'Perceptron', 'Random Forest', 'KNN', 'Gaussian Naive Bayes', 'Gradient Boosting Classifier']\n",
    "total_f1 = []"
   ]
  },
  {
   "cell_type": "markdown",
   "metadata": {
    "id": "ORMlPhU35mky",
    "slideshow": {
     "slide_type": "slide"
    }
   },
   "source": [
    "We will start off as always with a dummy classifier."
   ]
  },
  {
   "cell_type": "code",
   "execution_count": 41,
   "metadata": {
    "colab": {
     "base_uri": "https://localhost:8080/",
     "height": 499
    },
    "id": "Ksa1Rhmk7rjY",
    "outputId": "f9794a12-5bec-4cce-89e1-4acf05312036",
    "slideshow": {
     "slide_type": "fragment"
    }
   },
   "outputs": [
    {
     "name": "stdout",
     "output_type": "stream",
     "text": [
      "              precision    recall  f1-score   support\n",
      "\n",
      "           1       0.68      1.00      0.81       133\n",
      "           2       0.00      0.00      0.00        45\n",
      "           3       0.00      0.00      0.00        10\n",
      "           4       0.00      0.00      0.00         3\n",
      "           5       0.00      0.00      0.00         4\n",
      "\n",
      "    accuracy                           0.68       195\n",
      "   macro avg       0.14      0.20      0.16       195\n",
      "weighted avg       0.47      0.68      0.55       195\n",
      "\n"
     ]
    },
    {
     "data": {
      "image/png": "[encoded data removed]",
      "text/plain": [
       "<Figure size 432x288 with 2 Axes>"
      ]
     },
     "metadata": {
      "needs_background": "light"
     },
     "output_type": "display_data"
    }
   ],
   "source": [
    "#Establishing a base line\n",
    "from sklearn.dummy import DummyClassifier\n",
    "from sklearn.metrics import classification_report\n",
    "from sklearn.metrics import ConfusionMatrixDisplay\n",
    "\n",
    "dclf = DummyClassifier(random_state=42)\n",
    "dclf.fit(x_train, y_train)\n",
    "y_pred = dclf.predict(x_test)\n",
    "print(classification_report(y_test, y_pred))\n",
    "ConfusionMatrixDisplay.from_predictions(y_test, y_pred)\n",
    "\n",
    "#log down the f1 score\n",
    "re = classification_report(y_test, y_pred, output_dict=True)\n",
    "total_f1.append(pd.DataFrame(re).loc['f1-score', '1':'5'].sum())"
   ]
  },
  {
   "cell_type": "markdown",
   "metadata": {
    "id": "pm5nmX3q89zV",
    "slideshow": {
     "slide_type": "slide"
    }
   },
   "source": [
    "We'll start with a simple Logistic Regression model using one vs. all"
   ]
  },
  {
   "cell_type": "code",
   "execution_count": 42,
   "metadata": {
    "colab": {
     "base_uri": "https://localhost:8080/",
     "height": 499
    },
    "id": "fmjFqJOL7jXq",
    "outputId": "9348c25a-e865-4707-8db2-33b0305e4220",
    "slideshow": {
     "slide_type": "fragment"
    }
   },
   "outputs": [
    {
     "name": "stdout",
     "output_type": "stream",
     "text": [
      "              precision    recall  f1-score   support\n",
      "\n",
      "           1       0.73      0.96      0.83       133\n",
      "           2       0.56      0.11      0.19        45\n",
      "           3       0.00      0.00      0.00        10\n",
      "           4       0.00      0.00      0.00         3\n",
      "           5       0.00      0.00      0.00         4\n",
      "\n",
      "    accuracy                           0.68       195\n",
      "   macro avg       0.26      0.21      0.20       195\n",
      "weighted avg       0.62      0.68      0.61       195\n",
      "\n"
     ]
    },
    {
     "data": {
      "image/png": "[encoded data removed]",
      "text/plain": [
       "<Figure size 432x288 with 2 Axes>"
      ]
     },
     "metadata": {
      "needs_background": "light"
     },
     "output_type": "display_data"
    }
   ],
   "source": [
    "from sklearn.linear_model import LogisticRegression\n",
    "lr = LogisticRegression(multi_class='ovr', random_state=42, solver='liblinear')\n",
    "lr.fit(x_train, y_train)\n",
    "y_pred = lr.predict(x_test)\n",
    "print(classification_report(y_test, y_pred))\n",
    "ConfusionMatrixDisplay.from_predictions(y_test, y_pred)\n",
    "#log down the f1 score\n",
    "re = classification_report(y_test, y_pred, output_dict=True)\n",
    "total_f1.append(pd.DataFrame(re).loc['f1-score', '1':'5'].sum())"
   ]
  },
  {
   "cell_type": "markdown",
   "metadata": {
    "id": "MScKhVFP_x7c",
    "slideshow": {
     "slide_type": "fragment"
    }
   },
   "source": [
    "We can see that the logistic regression model performed slightly better than the dummy model as it correctly classified 5 instances of the second class"
   ]
  },
  {
   "cell_type": "code",
   "execution_count": 43,
   "metadata": {
    "colab": {
     "base_uri": "https://localhost:8080/",
     "height": 499
    },
    "id": "EvNjJny5_Qgv",
    "outputId": "a10a4d4d-c5c5-49f7-aeac-781d5abb7c17",
    "slideshow": {
     "slide_type": "slide"
    }
   },
   "outputs": [
    {
     "name": "stdout",
     "output_type": "stream",
     "text": [
      "              precision    recall  f1-score   support\n",
      "\n",
      "           1       0.68      1.00      0.81       133\n",
      "           2       0.00      0.00      0.00        45\n",
      "           3       0.00      0.00      0.00        10\n",
      "           4       0.00      0.00      0.00         3\n",
      "           5       0.00      0.00      0.00         4\n",
      "\n",
      "    accuracy                           0.68       195\n",
      "   macro avg       0.14      0.20      0.16       195\n",
      "weighted avg       0.47      0.68      0.55       195\n",
      "\n"
     ]
    },
    {
     "data": {
      "image/png": "[encoded data removed]",
      "text/plain": [
       "<Figure size 432x288 with 2 Axes>"
      ]
     },
     "metadata": {
      "needs_background": "light"
     },
     "output_type": "display_data"
    }
   ],
   "source": [
    "from sklearn.svm import SVC\n",
    "svc = SVC()\n",
    "svc.fit(x_train, y_train)\n",
    "y_pred = svc.predict(x_test)\n",
    "print(classification_report(y_test, y_pred))\n",
    "ConfusionMatrixDisplay.from_predictions(y_test, y_pred)\n",
    "#log down the f1 score\n",
    "re = classification_report(y_test, y_pred, output_dict=True)\n",
    "total_f1.append(pd.DataFrame(re).loc['f1-score', '1':'5'].sum())"
   ]
  },
  {
   "cell_type": "markdown",
   "metadata": {
    "id": "OB-lb6IpADVe",
    "slideshow": {
     "slide_type": "fragment"
    }
   },
   "source": [
    "The support vector machine performed as bad as the dummy model as it simply predicted every thing to be in the first class"
   ]
  },
  {
   "cell_type": "code",
   "execution_count": 44,
   "metadata": {
    "colab": {
     "base_uri": "https://localhost:8080/",
     "height": 499
    },
    "id": "WZhFPf_TALjp",
    "outputId": "42062996-16ca-4ce3-d480-2b68d4f8e5fa",
    "slideshow": {
     "slide_type": "slide"
    }
   },
   "outputs": [
    {
     "name": "stdout",
     "output_type": "stream",
     "text": [
      "              precision    recall  f1-score   support\n",
      "\n",
      "           1       0.70      0.96      0.81       133\n",
      "           2       1.00      0.04      0.09        45\n",
      "           3       0.10      0.10      0.10        10\n",
      "           4       0.00      0.00      0.00         3\n",
      "           5       0.00      0.00      0.00         4\n",
      "\n",
      "    accuracy                           0.67       195\n",
      "   macro avg       0.36      0.22      0.20       195\n",
      "weighted avg       0.72      0.67      0.58       195\n",
      "\n"
     ]
    },
    {
     "data": {
      "image/png": "[encoded data removed]",
      "text/plain": [
       "<Figure size 432x288 with 2 Axes>"
      ]
     },
     "metadata": {
      "needs_background": "light"
     },
     "output_type": "display_data"
    }
   ],
   "source": [
    "from sklearn.linear_model import Perceptron\n",
    "per = Perceptron()\n",
    "per.fit(x_train, y_train)\n",
    "y_pred = per.predict(x_test)\n",
    "print(classification_report(y_test, y_pred))\n",
    "ConfusionMatrixDisplay.from_predictions(y_test, y_pred)\n",
    "#log down the f1 score\n",
    "re = classification_report(y_test, y_pred, output_dict=True)\n",
    "total_f1.append(pd.DataFrame(re).loc['f1-score', '1':'5'].sum())"
   ]
  },
  {
   "cell_type": "markdown",
   "metadata": {
    "id": "3e3KeZUeAlSA",
    "slideshow": {
     "slide_type": "fragment"
    }
   },
   "source": [
    "Note that the Perceptron was able to correctly predict one instance of the third class.\n",
    "\n",
    "While overall it performed worse than the other models, receiving only an accuracy of 67%"
   ]
  },
  {
   "cell_type": "code",
   "execution_count": 45,
   "metadata": {
    "colab": {
     "base_uri": "https://localhost:8080/",
     "height": 499
    },
    "id": "FWgOdUF1Az7V",
    "outputId": "6e9dc71d-26c2-4009-88f9-62e7fcac46df",
    "slideshow": {
     "slide_type": "slide"
    }
   },
   "outputs": [
    {
     "name": "stdout",
     "output_type": "stream",
     "text": [
      "              precision    recall  f1-score   support\n",
      "\n",
      "           1       0.69      0.99      0.81       133\n",
      "           2       0.50      0.02      0.04        45\n",
      "           3       0.00      0.00      0.00        10\n",
      "           4       0.00      0.00      0.00         3\n",
      "           5       0.00      0.00      0.00         4\n",
      "\n",
      "    accuracy                           0.68       195\n",
      "   macro avg       0.24      0.20      0.17       195\n",
      "weighted avg       0.58      0.68      0.56       195\n",
      "\n"
     ]
    },
    {
     "data": {
      "image/png": "[encoded data removed]",
      "text/plain": [
       "<Figure size 432x288 with 2 Axes>"
      ]
     },
     "metadata": {
      "needs_background": "light"
     },
     "output_type": "display_data"
    }
   ],
   "source": [
    "from sklearn.ensemble import RandomForestClassifier\n",
    "from sklearn.model_selection import GridSearchCV\n",
    "\n",
    "params = {'n_estimators': [10, 50, 100, 200]}\n",
    "grid = GridSearchCV(estimator=RandomForestClassifier(random_state=42), param_grid=params)\n",
    "grid.fit(x_train, y_train)\n",
    "y_pred = grid.predict(x_test)\n",
    "print(classification_report(y_test, y_pred))\n",
    "ConfusionMatrixDisplay.from_predictions(y_test, y_pred)\n",
    "#log down the f1 score\n",
    "re = classification_report(y_test, y_pred, output_dict=True)\n",
    "total_f1.append(pd.DataFrame(re).loc['f1-score', '1':'5'].sum())"
   ]
  },
  {
   "cell_type": "markdown",
   "metadata": {
    "id": "wgAft94sC8o2",
    "slideshow": {
     "slide_type": "fragment"
    }
   },
   "source": [
    "The Random Forest Classifier performed worse than the Logistic Regression model but slightly better than the support vector machine, seeing that it correctly classified 1 instance of the second class"
   ]
  },
  {
   "cell_type": "code",
   "execution_count": 46,
   "metadata": {
    "colab": {
     "base_uri": "https://localhost:8080/",
     "height": 499
    },
    "id": "hTbLyAztDISN",
    "outputId": "10d0318c-5609-4062-9d99-7d1037b8f472",
    "slideshow": {
     "slide_type": "slide"
    }
   },
   "outputs": [
    {
     "name": "stdout",
     "output_type": "stream",
     "text": [
      "              precision    recall  f1-score   support\n",
      "\n",
      "           1       0.69      0.99      0.81       133\n",
      "           2       0.25      0.02      0.04        45\n",
      "           3       0.00      0.00      0.00        10\n",
      "           4       0.00      0.00      0.00         3\n",
      "           5       0.00      0.00      0.00         4\n",
      "\n",
      "    accuracy                           0.68       195\n",
      "   macro avg       0.19      0.20      0.17       195\n",
      "weighted avg       0.53      0.68      0.57       195\n",
      "\n"
     ]
    },
    {
     "data": {
      "image/png": "[encoded data removed]",
      "text/plain": [
       "<Figure size 432x288 with 2 Axes>"
      ]
     },
     "metadata": {
      "needs_background": "light"
     },
     "output_type": "display_data"
    }
   ],
   "source": [
    "from sklearn.neighbors import KNeighborsClassifier\n",
    "\n",
    "params = {'n_neighbors' : range(1,50,5)}\n",
    "knn = KNeighborsClassifier()\n",
    "grid = GridSearchCV(estimator=knn, param_grid=params, n_jobs=-1)\n",
    "grid.fit(x_train, y_train)\n",
    "y_pred = grid.predict(x_test)\n",
    "print(classification_report(y_test, y_pred))\n",
    "ConfusionMatrixDisplay.from_predictions(y_test, y_pred)\n",
    "#log down the f1 score\n",
    "re = classification_report(y_test, y_pred, output_dict=True)\n",
    "total_f1.append(pd.DataFrame(re).loc['f1-score', '1':'5'].sum())"
   ]
  },
  {
   "cell_type": "markdown",
   "metadata": {
    "id": "190LosdoENPH",
    "slideshow": {
     "slide_type": "fragment"
    }
   },
   "source": [
    "The KNN model has a similar performance to the Random Forest"
   ]
  },
  {
   "cell_type": "code",
   "execution_count": 47,
   "metadata": {
    "colab": {
     "base_uri": "https://localhost:8080/",
     "height": 499
    },
    "id": "pICLzTr9GHo2",
    "outputId": "9aef5c7a-78ec-4d84-f221-3c8dfde153bd",
    "slideshow": {
     "slide_type": "slide"
    }
   },
   "outputs": [
    {
     "name": "stdout",
     "output_type": "stream",
     "text": [
      "              precision    recall  f1-score   support\n",
      "\n",
      "           1       0.57      0.03      0.06       133\n",
      "           2       0.33      0.11      0.17        45\n",
      "           3       0.05      0.10      0.07        10\n",
      "           4       0.00      0.00      0.00         3\n",
      "           5       0.01      0.25      0.02         4\n",
      "\n",
      "    accuracy                           0.06       195\n",
      "   macro avg       0.19      0.10      0.06       195\n",
      "weighted avg       0.47      0.06      0.08       195\n",
      "\n"
     ]
    },
    {
     "data": {
      "image/png": "[encoded data removed]",
      "text/plain": [
       "<Figure size 432x288 with 2 Axes>"
      ]
     },
     "metadata": {
      "needs_background": "light"
     },
     "output_type": "display_data"
    }
   ],
   "source": [
    "from sklearn.naive_bayes import GaussianNB\n",
    "\n",
    "nb = GaussianNB()\n",
    "nb.fit(x_train, y_train)\n",
    "y_pred = nb.predict(x_test)\n",
    "print(classification_report(y_test, y_pred))\n",
    "ConfusionMatrixDisplay.from_predictions(y_test, y_pred)\n",
    "#log down the f1 score\n",
    "re = classification_report(y_test, y_pred, output_dict=True)\n",
    "total_f1.append(pd.DataFrame(re).loc['f1-score', '1':'5'].sum())"
   ]
  },
  {
   "cell_type": "markdown",
   "metadata": {
    "id": "szuEbg4mGciL",
    "slideshow": {
     "slide_type": "fragment"
    }
   },
   "source": [
    "Gaussian Naive Bayes performed the worst out of all the models"
   ]
  },
  {
   "cell_type": "code",
   "execution_count": 48,
   "metadata": {
    "colab": {
     "base_uri": "https://localhost:8080/",
     "height": 500
    },
    "id": "A9HS8uwSGvYk",
    "outputId": "56c97598-f3a7-485a-a6d8-3ade1fefb817",
    "slideshow": {
     "slide_type": "slide"
    }
   },
   "outputs": [
    {
     "name": "stdout",
     "output_type": "stream",
     "text": [
      "              precision    recall  f1-score   support\n",
      "\n",
      "           1       0.74      0.92      0.82       133\n",
      "           2       0.45      0.22      0.30        45\n",
      "           3       0.00      0.00      0.00        10\n",
      "           4       0.00      0.00      0.00         3\n",
      "           5       0.00      0.00      0.00         4\n",
      "\n",
      "    accuracy                           0.68       195\n",
      "   macro avg       0.24      0.23      0.22       195\n",
      "weighted avg       0.61      0.68      0.63       195\n",
      "\n"
     ]
    },
    {
     "data": {
      "image/png": "[encoded data removed]",
      "text/plain": [
       "<Figure size 432x288 with 2 Axes>"
      ]
     },
     "metadata": {
      "needs_background": "light"
     },
     "output_type": "display_data"
    }
   ],
   "source": [
    "from sklearn.ensemble import GradientBoostingClassifier\n",
    "\n",
    "gbclf = GradientBoostingClassifier()\n",
    "gbclf.fit(x_train, y_train)\n",
    "y_pred = gbclf.predict(x_test)\n",
    "print(classification_report(y_test, y_pred))\n",
    "ConfusionMatrixDisplay.from_predictions(y_test, y_pred)\n",
    "#log down the f1 score\n",
    "re = classification_report(y_test, y_pred, output_dict=True)\n",
    "total_f1.append(pd.DataFrame(re).loc['f1-score', '1':'5'].sum())"
   ]
  },
  {
   "cell_type": "markdown",
   "metadata": {
    "id": "fLE8SI73HQWk",
    "slideshow": {
     "slide_type": "fragment"
    }
   },
   "source": [
    "Gradient Boosting Classifier seems to be outperforming the Logistic Regression model with 10 examples correctly classified to the second class"
   ]
  },
  {
   "cell_type": "code",
   "execution_count": 49,
   "metadata": {
    "colab": {
     "base_uri": "https://localhost:8080/",
     "height": 300
    },
    "id": "90dYjjquHvdy",
    "outputId": "f489a0ed-0dea-491b-fef8-d303fa19243b",
    "slideshow": {
     "slide_type": "slide"
    }
   },
   "outputs": [
    {
     "data": {
      "text/html": [
       "<div>\n",
       "<style scoped>\n",
       "    .dataframe tbody tr th:only-of-type {\n",
       "        vertical-align: middle;\n",
       "    }\n",
       "\n",
       "    .dataframe tbody tr th {\n",
       "        vertical-align: top;\n",
       "    }\n",
       "\n",
       "    .dataframe thead th {\n",
       "        text-align: right;\n",
       "    }\n",
       "</style>\n",
       "<table border=\"1\" class=\"dataframe\">\n",
       "  <thead>\n",
       "    <tr style=\"text-align: right;\">\n",
       "      <th></th>\n",
       "      <th>F1-score</th>\n",
       "    </tr>\n",
       "  </thead>\n",
       "  <tbody>\n",
       "    <tr>\n",
       "      <th>Gradient Boosting Classifier</th>\n",
       "      <td>1.117299</td>\n",
       "    </tr>\n",
       "    <tr>\n",
       "      <th>LogisticRegression</th>\n",
       "      <td>1.013664</td>\n",
       "    </tr>\n",
       "    <tr>\n",
       "      <th>Perceptron</th>\n",
       "      <td>0.997805</td>\n",
       "    </tr>\n",
       "    <tr>\n",
       "      <th>KNN</th>\n",
       "      <td>0.855631</td>\n",
       "    </tr>\n",
       "    <tr>\n",
       "      <th>Random Forest</th>\n",
       "      <td>0.854861</td>\n",
       "    </tr>\n",
       "    <tr>\n",
       "      <th>Dummy</th>\n",
       "      <td>0.810976</td>\n",
       "    </tr>\n",
       "    <tr>\n",
       "      <th>Support Vector Machine</th>\n",
       "      <td>0.810976</td>\n",
       "    </tr>\n",
       "    <tr>\n",
       "      <th>Gaussian Naive Bayes</th>\n",
       "      <td>0.310884</td>\n",
       "    </tr>\n",
       "  </tbody>\n",
       "</table>\n",
       "</div>"
      ],
      "text/plain": [
       "                              F1-score\n",
       "Gradient Boosting Classifier  1.117299\n",
       "LogisticRegression            1.013664\n",
       "Perceptron                    0.997805\n",
       "KNN                           0.855631\n",
       "Random Forest                 0.854861\n",
       "Dummy                         0.810976\n",
       "Support Vector Machine        0.810976\n",
       "Gaussian Naive Bayes          0.310884"
      ]
     },
     "execution_count": 49,
     "metadata": {},
     "output_type": "execute_result"
    }
   ],
   "source": [
    "pd.DataFrame.from_records([{i:j for (i,j) in list(zip(clfs, total_f1))}]).T.sort_values(by=0, axis=0, ascending=False).rename(columns={0:'F1-score'})"
   ]
  },
  {
   "cell_type": "markdown",
   "metadata": {
    "id": "aHtGsm9BJmyN",
    "slideshow": {
     "slide_type": "fragment"
    }
   },
   "source": [
    "From the total f1 score across all classes, we find that the Gradient Boosting Classifier is the best model for the job, followed by good old Logistic Regression"
   ]
  },
  {
   "cell_type": "markdown",
   "metadata": {
    "id": "a9XifuvANVo0",
    "slideshow": {
     "slide_type": "slide"
    }
   },
   "source": [
    "## Learning Points\n",
    "\n",
    "1. Sometimes simple models (such as log/linear regression) can do as well as more complex algorithms such as decision trees or ensemble learning. This can be due to factors such as overfitting with more complex models, and because a weaker model can be made more powerful with feature engineering.\n",
    "1. Feature engineering is quite powerful in improving the performance of a model. Using PCA, we have seen how linear regression became the best-performing model despite its simplicity. \n",
    "1. Importance of EDA. Performing EDA allowed us to gain a better understanding of the dataset and allowed us to see which features were linearly correlated such that we were able to average them or just use one of the features to eliminate redundancy which was a hands-on way of performing dimensionality reduction."
   ]
  }
 ],
 "metadata": {
  "celltoolbar": "Slideshow",
  "colab": {
   "collapsed_sections": [],
   "name": "Alcohol.ipynb",
   "provenance": []
  },
  "kernelspec": {
   "display_name": "Python 3 (ipykernel)",
   "language": "python",
   "name": "python3"
  },
  "language_info": {
   "codemirror_mode": {
    "name": "ipython",
    "version": 3
   },
   "file_extension": ".py",
   "mimetype": "text/x-python",
   "name": "python",
   "nbconvert_exporter": "python",
   "pygments_lexer": "ipython3",
   "version": "3.9.9"
  }
 },
 "nbformat": 4,
 "nbformat_minor": 1
}
